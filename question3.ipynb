{
 "cells": [
  {
   "cell_type": "code",
   "execution_count": 8,
   "id": "46b19d4f",
   "metadata": {},
   "outputs": [
    {
     "ename": "NameError",
     "evalue": "name 'x' is not defined",
     "output_type": "error",
     "traceback": [
      "\u001b[1;31m---------------------------------------------------------------------------\u001b[0m",
      "\u001b[1;31mNameError\u001b[0m                                 Traceback (most recent call last)",
      "Cell \u001b[1;32mIn[8], line 26\u001b[0m\n\u001b[0;32m     23\u001b[0m         outcast\u001b[38;5;241m.\u001b[39mappend(string)\n\u001b[0;32m     25\u001b[0m \u001b[38;5;66;03m# x = addToContainers(data)\u001b[39;00m\n\u001b[1;32m---> 26\u001b[0m \u001b[38;5;28mprint\u001b[39m(\u001b[43mx\u001b[49m)\n\u001b[0;32m     27\u001b[0m \u001b[38;5;28mprint\u001b[39m(\u001b[38;5;28mtype\u001b[39m(x))\n",
      "\u001b[1;31mNameError\u001b[0m: name 'x' is not defined"
     ]
    }
   ],
   "source": [
    "data = []\n",
    "def enter_data():\n",
    "   x=input(\"enter any data :\")\n",
    "   if x.isalpha and x!='':\n",
    "    return x\n",
    "def add_data(val,lst):\n",
    "   lst.append(val)\n",
    "   return lst\n",
    "def addToContainers():\n",
    "    upper5lower15=[]\n",
    "    upper15=[]\n",
    "    outcast=[]\n",
    "    return upper5lower15,upper15,outcast\n",
    "\n",
    "for string in data:\n",
    "    greaterThan5 = len(string)>5\n",
    "    lessThan15 = len(string)<15\n",
    "    greaterThan15 = len(string)>15\n",
    "    \n",
    "    if greaterThan5 and lessThan15:\n",
    "        upper5lower15.append(string)\n",
    "    elif greaterThan5:\n",
    "        outcast.append(string)\n",
    "\n",
    "# x = addToContainers(data)\n",
    "# print(x)\n",
    "# print(type(x))\n",
    "\n",
    "\n",
    "\n",
    "\n",
    "        "
   ]
  },
  {
   "cell_type": "code",
   "execution_count": null,
   "id": "ecae552f",
   "metadata": {},
   "outputs": [],
   "source": []
  }
 ],
 "metadata": {
  "kernelspec": {
   "display_name": "Python 3 (ipykernel)",
   "language": "python",
   "name": "python3"
  },
  "language_info": {
   "codemirror_mode": {
    "name": "ipython",
    "version": 3
   },
   "file_extension": ".py",
   "mimetype": "text/x-python",
   "name": "python",
   "nbconvert_exporter": "python",
   "pygments_lexer": "ipython3",
   "version": "3.11.1"
  }
 },
 "nbformat": 4,
 "nbformat_minor": 5
}
